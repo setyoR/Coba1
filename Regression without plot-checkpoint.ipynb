{
 "cells": [
  {
   "cell_type": "code",
   "execution_count": 1,
   "metadata": {},
   "outputs": [],
   "source": [
    "#import library\n",
    "import numpy as np\n",
    "import pandas as pd\n",
    "from sklearn.datasets import load_boston\n",
    "from sklearn.model_selection import train_test_split"
   ]
  },
  {
   "cell_type": "code",
   "execution_count": 2,
   "metadata": {},
   "outputs": [
    {
     "data": {
      "text/html": [
       "<div>\n",
       "<style scoped>\n",
       "    .dataframe tbody tr th:only-of-type {\n",
       "        vertical-align: middle;\n",
       "    }\n",
       "\n",
       "    .dataframe tbody tr th {\n",
       "        vertical-align: top;\n",
       "    }\n",
       "\n",
       "    .dataframe thead th {\n",
       "        text-align: right;\n",
       "    }\n",
       "</style>\n",
       "<table border=\"1\" class=\"dataframe\">\n",
       "  <thead>\n",
       "    <tr style=\"text-align: right;\">\n",
       "      <th></th>\n",
       "      <th>CRIM</th>\n",
       "      <th>ZN</th>\n",
       "      <th>INDUS</th>\n",
       "      <th>CHAS</th>\n",
       "      <th>NOX</th>\n",
       "      <th>RM</th>\n",
       "      <th>AGE</th>\n",
       "      <th>DIS</th>\n",
       "      <th>RAD</th>\n",
       "      <th>TAX</th>\n",
       "      <th>PTRATIO</th>\n",
       "      <th>B</th>\n",
       "      <th>LSTAT</th>\n",
       "    </tr>\n",
       "  </thead>\n",
       "  <tbody>\n",
       "    <tr>\n",
       "      <th>0</th>\n",
       "      <td>0.00632</td>\n",
       "      <td>18.0</td>\n",
       "      <td>2.31</td>\n",
       "      <td>0.0</td>\n",
       "      <td>0.538</td>\n",
       "      <td>6.575</td>\n",
       "      <td>65.2</td>\n",
       "      <td>4.0900</td>\n",
       "      <td>1.0</td>\n",
       "      <td>296.0</td>\n",
       "      <td>15.3</td>\n",
       "      <td>396.90</td>\n",
       "      <td>4.98</td>\n",
       "    </tr>\n",
       "    <tr>\n",
       "      <th>1</th>\n",
       "      <td>0.02731</td>\n",
       "      <td>0.0</td>\n",
       "      <td>7.07</td>\n",
       "      <td>0.0</td>\n",
       "      <td>0.469</td>\n",
       "      <td>6.421</td>\n",
       "      <td>78.9</td>\n",
       "      <td>4.9671</td>\n",
       "      <td>2.0</td>\n",
       "      <td>242.0</td>\n",
       "      <td>17.8</td>\n",
       "      <td>396.90</td>\n",
       "      <td>9.14</td>\n",
       "    </tr>\n",
       "    <tr>\n",
       "      <th>2</th>\n",
       "      <td>0.02729</td>\n",
       "      <td>0.0</td>\n",
       "      <td>7.07</td>\n",
       "      <td>0.0</td>\n",
       "      <td>0.469</td>\n",
       "      <td>7.185</td>\n",
       "      <td>61.1</td>\n",
       "      <td>4.9671</td>\n",
       "      <td>2.0</td>\n",
       "      <td>242.0</td>\n",
       "      <td>17.8</td>\n",
       "      <td>392.83</td>\n",
       "      <td>4.03</td>\n",
       "    </tr>\n",
       "    <tr>\n",
       "      <th>3</th>\n",
       "      <td>0.03237</td>\n",
       "      <td>0.0</td>\n",
       "      <td>2.18</td>\n",
       "      <td>0.0</td>\n",
       "      <td>0.458</td>\n",
       "      <td>6.998</td>\n",
       "      <td>45.8</td>\n",
       "      <td>6.0622</td>\n",
       "      <td>3.0</td>\n",
       "      <td>222.0</td>\n",
       "      <td>18.7</td>\n",
       "      <td>394.63</td>\n",
       "      <td>2.94</td>\n",
       "    </tr>\n",
       "    <tr>\n",
       "      <th>4</th>\n",
       "      <td>0.06905</td>\n",
       "      <td>0.0</td>\n",
       "      <td>2.18</td>\n",
       "      <td>0.0</td>\n",
       "      <td>0.458</td>\n",
       "      <td>7.147</td>\n",
       "      <td>54.2</td>\n",
       "      <td>6.0622</td>\n",
       "      <td>3.0</td>\n",
       "      <td>222.0</td>\n",
       "      <td>18.7</td>\n",
       "      <td>396.90</td>\n",
       "      <td>5.33</td>\n",
       "    </tr>\n",
       "  </tbody>\n",
       "</table>\n",
       "</div>"
      ],
      "text/plain": [
       "      CRIM    ZN  INDUS  CHAS    NOX     RM   AGE     DIS  RAD    TAX  \\\n",
       "0  0.00632  18.0   2.31   0.0  0.538  6.575  65.2  4.0900  1.0  296.0   \n",
       "1  0.02731   0.0   7.07   0.0  0.469  6.421  78.9  4.9671  2.0  242.0   \n",
       "2  0.02729   0.0   7.07   0.0  0.469  7.185  61.1  4.9671  2.0  242.0   \n",
       "3  0.03237   0.0   2.18   0.0  0.458  6.998  45.8  6.0622  3.0  222.0   \n",
       "4  0.06905   0.0   2.18   0.0  0.458  7.147  54.2  6.0622  3.0  222.0   \n",
       "\n",
       "   PTRATIO       B  LSTAT  \n",
       "0     15.3  396.90   4.98  \n",
       "1     17.8  396.90   9.14  \n",
       "2     17.8  392.83   4.03  \n",
       "3     18.7  394.63   2.94  \n",
       "4     18.7  396.90   5.33  "
      ]
     },
     "execution_count": 2,
     "metadata": {},
     "output_type": "execute_result"
    }
   ],
   "source": [
    "#Baca data\n",
    "boston = load_boston()\n",
    "bos_ = pd.DataFrame(boston.data)\n",
    "bos_.columns=boston.feature_names\n",
    "bos_.head()"
   ]
  },
  {
   "cell_type": "code",
   "execution_count": 3,
   "metadata": {},
   "outputs": [
    {
     "name": "stdout",
     "output_type": "stream",
     "text": [
      "      CRIM    ZN  INDUS  CHAS    NOX     RM   AGE     DIS  RAD    TAX  \\\n",
      "0  0.00632  18.0   2.31   0.0  0.538  6.575  65.2  4.0900  1.0  296.0   \n",
      "1  0.02731   0.0   7.07   0.0  0.469  6.421  78.9  4.9671  2.0  242.0   \n",
      "2  0.02729   0.0   7.07   0.0  0.469  7.185  61.1  4.9671  2.0  242.0   \n",
      "3  0.03237   0.0   2.18   0.0  0.458  6.998  45.8  6.0622  3.0  222.0   \n",
      "4  0.06905   0.0   2.18   0.0  0.458  7.147  54.2  6.0622  3.0  222.0   \n",
      "\n",
      "   PTRATIO       B  LSTAT  PRICE  \n",
      "0     15.3  396.90   4.98   24.0  \n",
      "1     17.8  396.90   9.14   21.6  \n",
      "2     17.8  392.83   4.03   34.7  \n",
      "3     18.7  394.63   2.94   33.4  \n",
      "4     18.7  396.90   5.33   36.2  \n"
     ]
    }
   ],
   "source": [
    "bos_['PRICE'] = boston.target\n",
    "print(bos_.head())"
   ]
  },
  {
   "cell_type": "code",
   "execution_count": 5,
   "metadata": {},
   "outputs": [],
   "source": [
    "#menentukan data dan target\n",
    "x = bos_.drop('PRICE', axis = 1)\n",
    "y = bos_['PRICE']\n",
    "#split data ke data test dan data train\n",
    "xtrain, xtest, ytrain, ytest=train_test_split(x, y, test_size=0.2)\n"
   ]
  },
  {
   "cell_type": "code",
   "execution_count": 6,
   "metadata": {},
   "outputs": [
    {
     "name": "stdout",
     "output_type": "stream",
     "text": [
      "CV mean score:  0.682370349480182\n",
      "MAE 3.4969988112022183\n",
      "MSE 25.425652926364865\n",
      "RMSE 5.0423856384022105\n",
      "R squared error 0.7349395837106906\n",
      "waktu untuk Linear Regression: 0.003925800323486328 Sekon\n"
     ]
    }
   ],
   "source": [
    "from sklearn.model_selection import cross_validate, cross_val_score\n",
    "#Linear Regression\n",
    "\n",
    "from sklearn.linear_model import LinearRegression\n",
    "import time\n",
    "from sklearn import metrics\n",
    "from sklearn.metrics import r2_score\n",
    "reglin =time.time()\n",
    "reg = LinearRegression()\n",
    "reg.fit(xtrain, ytrain)\n",
    "ypred_1=reg.predict(xtest) \n",
    "\n",
    "Time_Linear = time.time()-reglin\n",
    "cv_reglin = cross_val_score(reg, xtrain, ytrain, cv=10)\n",
    "#Evaluation\n",
    "\n",
    "MAE_Linear = metrics.mean_absolute_error(ytest, ypred_1)\n",
    "MSE_Linear = metrics.mean_squared_error(ytest, ypred_1)\n",
    "RMSE_Linear = np.sqrt(metrics.mean_squared_error(ytest, ypred_1))\n",
    "R_Square= r2_score(ytest, ypred_1)\n",
    "CV_Linear = cv_reglin.mean()\n",
    "print(\"CV mean score: \", CV_Linear)\n",
    "print('MAE', MAE_Linear)\n",
    "print('MSE', MSE_Linear )\n",
    "print('RMSE', RMSE_Linear)\n",
    "print('R squared error', R_Square)\n",
    "print(\"waktu untuk Linear Regression:\",Time_Linear, \"Sekon\")"
   ]
  },
  {
   "cell_type": "code",
   "execution_count": 7,
   "metadata": {},
   "outputs": [
    {
     "name": "stdout",
     "output_type": "stream",
     "text": [
      "CV mean score:  0.6469853064701189\n",
      "MAE 3.957268121512318\n",
      "MSE 28.024120956455867\n",
      "RMSE 5.293781347624386\n",
      "R squared error 0.7078507604751547\n",
      "waktu untuk Lasso Regression 0.005856990814208984 sekon\n"
     ]
    }
   ],
   "source": [
    "#Lasso Regression\n",
    "\n",
    "from sklearn.linear_model import Lasso, LassoCV\n",
    "lassotime = time.time()\n",
    "lasso = Lasso()\n",
    "lasso.fit(x, y)\n",
    "ypred_2 = lasso.predict(xtest)\n",
    "Time_Lasso = time.time()-lassotime\n",
    "cv_lasso = cross_val_score(lasso, xtrain , ytrain, cv=10)\n",
    "CV_Lasso=cv_lasso.mean()\n",
    "MAE_Lasso = metrics.mean_absolute_error(ytest, ypred_2)\n",
    "MSE_Lasso = metrics.mean_squared_error(ytest, ypred_2)\n",
    "RMSE_Lasso = np.sqrt(metrics.mean_squared_error(ytest, ypred_2))\n",
    "R_Square_Lasso = r2_score(ytest, ypred_2)\n",
    "#Evaluation\n",
    "print(\"CV mean score: \", CV_Lasso)\n",
    "print('MAE', MAE_Lasso)\n",
    "print('MSE', MSE_Lasso)\n",
    "print('RMSE', RMSE_Lasso)\n",
    "print('R squared error', R_Square_Lasso)\n",
    "print(\"waktu untuk Lasso Regression\", Time_Lasso, \"sekon\")"
   ]
  },
  {
   "cell_type": "code",
   "execution_count": 20,
   "metadata": {},
   "outputs": [
    {
     "name": "stdout",
     "output_type": "stream",
     "text": [
      "CV mean score:  0.828419322288773\n",
      "MSE RBF:  47.622096429694366\n",
      "MAE 4.4586604550082\n",
      "RMSE RBF:  6.900876497206306\n",
      "R-squared RBF: 0.4582960623626563\n",
      "waktu untuk SVR RBF: 0.016593456268310547 Sekon\n"
     ]
    }
   ],
   "source": [
    "#SVR REGRESSION\n",
    "\n",
    "from sklearn.preprocessing import scale\n",
    "from sklearn.svm import SVR\n",
    "from sklearn.metrics import r2_score\n",
    "from sklearn.model_selection import cross_validate, cross_val_score\n",
    "from sklearn.metrics import mean_squared_error\n",
    "\n",
    "x_=scale(xtrain)\n",
    "y_=scale(ytrain)\n",
    "\n",
    "\n",
    "#SVR RBF\n",
    "svr_rbftime=time.time()\n",
    "svr_rbf = SVR(kernel='rbf', C=100, gamma=\"scale\", epsilon=.1)\n",
    "svrrbf_fit = svr_rbf.fit (xtrain, ytrain)\n",
    "ypred_3 = svr_rbf.predict(xtest)\n",
    "Time_RBF = time.time() - svr_rbftime\n",
    "\n",
    "R_Square_RBF = svr_rbf.score(xtrain, ytrain)\n",
    "cv_rbf = cross_val_score(estimator = svr_rbf, X = x_, y = y_, cv = 10)\n",
    "CV_RBF = cv_rbf.mean()\n",
    "MAE_RBF = metrics.mean_absolute_error(ytest, ypred_3)\n",
    "MSE_RBF = mean_squared_error(ytest, ypred_3)\n",
    "RMSE_RBF = np.sqrt(mean_squared_error(ytest, ypred_3))\n",
    "print(\"CV mean score: \", CV_RBF)\n",
    "print(\"MSE RBF: \", MSE_RBF)\n",
    "print('MAE', MAE_RBF)\n",
    "print(\"RMSE RBF: \", RMSE_RBF)\n",
    "print(\"R-squared RBF:\", R_Square_RBF)\n",
    "print(\"waktu untuk SVR RBF:\", Time_RBF, \"Sekon\" )"
   ]
  },
  {
   "cell_type": "code",
   "execution_count": 11,
   "metadata": {},
   "outputs": [
    {
     "name": "stdout",
     "output_type": "stream",
     "text": [
      "CV mean score lin:  0.658831521506313\n",
      "MAE 3.453849230094387\n",
      "MSE RBF lin:  30.118183346446532\n",
      "RMSE RBF lin:  5.4880035847698325\n",
      "R-squared lin: 0.7088536261892868\n",
      "waktu untuk SVR Linear: 2.0876681804656982 Sekon\n"
     ]
    }
   ],
   "source": [
    "#SVR LINEAR\n",
    "\n",
    "\n",
    "svr_lintime=time.time()\n",
    "svr_lin = SVR(kernel='linear')\n",
    "svr_lin.fit (xtrain, ytrain)\n",
    "ypred_4 = svr_lin.predict(xtest)\n",
    "Time_SVRLin = time.time() - svr_lintime\n",
    "\n",
    "cv_lin = cross_val_score(estimator = svr_lin, X = x_, y = y_, cv = 10)\n",
    "R_Square_SVRLin = svr_lin.score(xtrain, ytrain)\n",
    "MAE_SVRLin = metrics.mean_absolute_error(ytest, ypred_4)\n",
    "MSE_SVRLin = mean_squared_error(ytest, ypred_4)\n",
    "RMSE_SVRLin = np.sqrt(mean_squared_error(ytest, ypred_4))\n",
    "CV_SVRLin=cv_lin.mean()\n",
    "print(\"CV mean score lin: \", CV_SVRLin)\n",
    "print('MAE', MAE_SVRLin)\n",
    "print(\"MSE RBF lin: \",MSE_SVRLin)\n",
    "print(\"RMSE RBF lin: \", RMSE_SVRLin)\n",
    "print(\"R-squared lin:\", R_Square_SVRLin)\n",
    "print(\"waktu untuk SVR Linear:\",Time_SVRLin, \"Sekon\")\n"
   ]
  },
  {
   "cell_type": "code",
   "execution_count": 13,
   "metadata": {},
   "outputs": [
    {
     "name": "stdout",
     "output_type": "stream",
     "text": [
      "CV mean score:  0.7390222624543945\n",
      "MAE 2.459803921568627\n",
      "MSE 10.088137254901959\n",
      "RMSE 3.1761828119461195\n",
      "R squared error 0.8948319687949777\n",
      "waktu untuk SVR Decison Tree Reg: 0.0058553218841552734 Sekon\n"
     ]
    }
   ],
   "source": [
    "#Decision Tree Regression\n",
    "from sklearn.tree import DecisionTreeRegressor\n",
    "Dtrtime=time.time()\n",
    "DecisionTR = DecisionTreeRegressor()\n",
    "DecisionTR.fit(xtrain, ytrain)\n",
    "ypred_5 = DecisionTR.predict(xtest)\n",
    "\n",
    "Time_DTRG = time.time()-Dtrtime\n",
    "\n",
    "cv_decTR = cross_val_score(DecisionTR, xtrain, ytrain, cv=10)\n",
    "CV_DTRG=cv_decTR.mean()\n",
    "MAE_DTRG = metrics.mean_absolute_error(ytest, ypred_5)\n",
    "MSE_DTRG = metrics.mean_squared_error(ytest, ypred_5)\n",
    "RMSE_DTRG = np.sqrt(metrics.mean_squared_error(ytest, ypred_5))\n",
    "R_Square_DTRG = r2_score(ytest, ypred_5)\n",
    "\n",
    "print(\"CV mean score: \", CV_DTRG)\n",
    "print('MAE', MAE_DTRG)\n",
    "print('MSE', MSE_DTRG )\n",
    "print('RMSE', RMSE_DTRG)\n",
    "print('R squared error', R_Square_DTRG)\n",
    "print(\"waktu untuk SVR Decison Tree Reg:\",Time_DTRG ,'Sekon')"
   ]
  },
  {
   "cell_type": "code",
   "execution_count": 18,
   "metadata": {},
   "outputs": [
    {
     "name": "stdout",
     "output_type": "stream",
     "text": [
      "CV mean score:  0.6787805987197866\n",
      "MAE 3.447445007718619\n",
      "MSE 25.694217616406235\n",
      "RMSE 5.068946401019272\n",
      "R squared error 0.7321398181058845\n",
      "waktu untuk SDGR:  0.0019140243530273438 Sekon\n"
     ]
    }
   ],
   "source": [
    "#SGD Regression\n",
    "from sklearn.linear_model import SGDRegressor\n",
    "from sklearn import preprocessing\n",
    "\n",
    "\n",
    "scaler = preprocessing.StandardScaler().fit(xtrain)\n",
    "x_train1 = scaler.transform(xtrain)\n",
    "x_test1=scaler.transform(xtest)\n",
    "sgdr_time=time.time()\n",
    "sgdr =  SGDRegressor(max_iter=1000)\n",
    "sgdr.fit (x_train1, ytrain)\n",
    "ypred_6 = sgdr.predict(x_test1)\n",
    "Time_SGDR=time.time()-sgdr_time\n",
    "\n",
    "cv_sgdr = cross_val_score(sgdr, x_train1, ytrain, cv=10)\n",
    "CV_SGDR=cv_sgdr.mean()\n",
    "MAE_SGDR = metrics.mean_absolute_error(ytest, ypred_6)\n",
    "MSE_SGDR = metrics.mean_squared_error(ytest, ypred_6)\n",
    "RMSE_SGDR = np.sqrt(metrics.mean_squared_error(ytest, ypred_6))\n",
    "R_Square_SGDR = r2_score(ytest, ypred_6)\n",
    "\n",
    "print(\"CV mean score: \", cv_sgdr.mean())\n",
    "print('MAE', metrics.mean_absolute_error(ytest, ypred_6))\n",
    "print('MSE', metrics.mean_squared_error(ytest, ypred_6))\n",
    "print('RMSE', np.sqrt(metrics.mean_squared_error(ytest, ypred_6)))\n",
    "print('R squared error', r2_score(ytest, ypred_6))\n",
    "print(\"waktu untuk SDGR: \",Time_SGD,'Sekon')\n"
   ]
  },
  {
   "cell_type": "code",
   "execution_count": 23,
   "metadata": {},
   "outputs": [
    {
     "name": "stdout",
     "output_type": "stream",
     "text": [
      "CV mean score:  0.8517856106378311\n",
      "MAE 2.1004509803921496\n",
      "MSE 7.870865984313713\n",
      "RMSE 2.805506368610436\n",
      "R squared error 0.7321398181058845\n",
      "waktu untuk SDGR:  1.432997703552246 Sekon\n"
     ]
    }
   ],
   "source": [
    "#Random Forest Regression\n",
    "\n",
    "from sklearn.ensemble import RandomForestRegressor\n",
    "RFG_time = time.time()\n",
    "RFG = RandomForestRegressor(n_estimators = 500)\n",
    "RFG.fit(xtrain, ytrain)\n",
    "ypred_7 = RFG.predict(xtest)\n",
    "\n",
    "Time_RFG=time.time()-RFG_time\n",
    "cv_rfg = cross_val_score(RFG, xtrain, ytrain, cv=10)\n",
    "\n",
    "CV_RFG=cv_rfg.mean()\n",
    "MAE_RFG = metrics.mean_absolute_error(ytest, ypred_7)\n",
    "MSE_RFG = metrics.mean_squared_error(ytest, ypred_7)\n",
    "RMSE_RFG = np.sqrt(metrics.mean_squared_error(ytest, ypred_7))\n",
    "R_Square_RFG = r2_score(ytest, ypred_7)\n",
    "print(\"CV mean score: \", cv_rfg.mean())\n",
    "print('MAE', metrics.mean_absolute_error(ytest, ypred_7))\n",
    "print('MSE', metrics.mean_squared_error(ytest, ypred_7))\n",
    "print('RMSE', np.sqrt(metrics.mean_squared_error(ytest, ypred_7)))\n",
    "print('R squared error', r2_score(ytest, ypred_6))\n",
    "print(\"waktu untuk SDGR: \",Time_RFG,'Sekon')\n"
   ]
  },
  {
   "cell_type": "code",
   "execution_count": 25,
   "metadata": {},
   "outputs": [
    {
     "data": {
      "text/html": [
       "<div>\n",
       "<style scoped>\n",
       "    .dataframe tbody tr th:only-of-type {\n",
       "        vertical-align: middle;\n",
       "    }\n",
       "\n",
       "    .dataframe tbody tr th {\n",
       "        vertical-align: top;\n",
       "    }\n",
       "\n",
       "    .dataframe thead th {\n",
       "        text-align: right;\n",
       "    }\n",
       "</style>\n",
       "<table border=\"1\" class=\"dataframe\">\n",
       "  <thead>\n",
       "    <tr style=\"text-align: right;\">\n",
       "      <th></th>\n",
       "      <th>Model</th>\n",
       "      <th>MAE</th>\n",
       "      <th>MSE</th>\n",
       "      <th>RMSE</th>\n",
       "      <th>R_Square</th>\n",
       "      <th>Cross-Validation</th>\n",
       "      <th>Time</th>\n",
       "    </tr>\n",
       "  </thead>\n",
       "  <tbody>\n",
       "    <tr>\n",
       "      <th>0</th>\n",
       "      <td>Linear</td>\n",
       "      <td>3.496999</td>\n",
       "      <td>25.425653</td>\n",
       "      <td>5.042386</td>\n",
       "      <td>0.734940</td>\n",
       "      <td>0.682370</td>\n",
       "      <td>0.003926</td>\n",
       "    </tr>\n",
       "    <tr>\n",
       "      <th>1</th>\n",
       "      <td>Lasso</td>\n",
       "      <td>3.957268</td>\n",
       "      <td>28.024121</td>\n",
       "      <td>5.293781</td>\n",
       "      <td>0.707851</td>\n",
       "      <td>0.646985</td>\n",
       "      <td>0.005857</td>\n",
       "    </tr>\n",
       "    <tr>\n",
       "      <th>2</th>\n",
       "      <td>SVR RBF</td>\n",
       "      <td>4.458660</td>\n",
       "      <td>47.622096</td>\n",
       "      <td>6.900876</td>\n",
       "      <td>0.458296</td>\n",
       "      <td>0.828419</td>\n",
       "      <td>0.016593</td>\n",
       "    </tr>\n",
       "    <tr>\n",
       "      <th>3</th>\n",
       "      <td>SVR Linear</td>\n",
       "      <td>3.453849</td>\n",
       "      <td>30.118183</td>\n",
       "      <td>5.488004</td>\n",
       "      <td>0.708854</td>\n",
       "      <td>0.658832</td>\n",
       "      <td>2.087668</td>\n",
       "    </tr>\n",
       "    <tr>\n",
       "      <th>4</th>\n",
       "      <td>Decision Tree Regression</td>\n",
       "      <td>2.459804</td>\n",
       "      <td>10.088137</td>\n",
       "      <td>3.176183</td>\n",
       "      <td>0.894832</td>\n",
       "      <td>0.739022</td>\n",
       "      <td>0.005855</td>\n",
       "    </tr>\n",
       "    <tr>\n",
       "      <th>5</th>\n",
       "      <td>Stochastic Gradient Descent</td>\n",
       "      <td>3.447445</td>\n",
       "      <td>25.694218</td>\n",
       "      <td>5.068946</td>\n",
       "      <td>0.732140</td>\n",
       "      <td>0.678781</td>\n",
       "      <td>0.002928</td>\n",
       "    </tr>\n",
       "    <tr>\n",
       "      <th>6</th>\n",
       "      <td>Random Forest Regression</td>\n",
       "      <td>2.100451</td>\n",
       "      <td>7.870866</td>\n",
       "      <td>2.805506</td>\n",
       "      <td>0.917947</td>\n",
       "      <td>0.851786</td>\n",
       "      <td>1.432998</td>\n",
       "    </tr>\n",
       "  </tbody>\n",
       "</table>\n",
       "</div>"
      ],
      "text/plain": [
       "                         Model       MAE        MSE      RMSE  R_Square  \\\n",
       "0                       Linear  3.496999  25.425653  5.042386  0.734940   \n",
       "1                        Lasso  3.957268  28.024121  5.293781  0.707851   \n",
       "2                      SVR RBF  4.458660  47.622096  6.900876  0.458296   \n",
       "3                   SVR Linear  3.453849  30.118183  5.488004  0.708854   \n",
       "4     Decision Tree Regression  2.459804  10.088137  3.176183  0.894832   \n",
       "5  Stochastic Gradient Descent  3.447445  25.694218  5.068946  0.732140   \n",
       "6     Random Forest Regression  2.100451   7.870866  2.805506  0.917947   \n",
       "\n",
       "   Cross-Validation      Time  \n",
       "0          0.682370  0.003926  \n",
       "1          0.646985  0.005857  \n",
       "2          0.828419  0.016593  \n",
       "3          0.658832  2.087668  \n",
       "4          0.739022  0.005855  \n",
       "5          0.678781  0.002928  \n",
       "6          0.851786  1.432998  "
      ]
     },
     "execution_count": 25,
     "metadata": {},
     "output_type": "execute_result"
    }
   ],
   "source": [
    "regresi = [('Linear',MAE_Linear,MSE_Linear, RMSE_Linear ,R_Square,CV_Linear, Time_Linear),\n",
    "          ('Lasso',MAE_Lasso,MSE_Lasso, RMSE_Lasso ,R_Square_Lasso,CV_Lasso, Time_Lasso),\n",
    "          ('SVR RBF', MAE_RBF,MSE_RBF, RMSE_RBF ,R_Square_RBF,CV_RBF, Time_RBF),\n",
    "           ('SVR Linear',MAE_SVRLin,MSE_SVRLin, RMSE_SVRLin ,R_Square_SVRLin,CV_SVRLin, Time_SVRLin),\n",
    "           ('Decision Tree Regression',MAE_DTRG,MSE_DTRG, RMSE_DTRG ,R_Square_DTRG,CV_DTRG, Time_DTRG),\n",
    "           ('Stochastic Gradient Descent',MAE_SGDR,MSE_SGDR, RMSE_SGDR ,R_Square_SGDR,CV_SGDR, Time_SGDR),\n",
    "           ('Random Forest Regression', MAE_RFG,MSE_RFG, RMSE_RFG ,R_Square_RFG,CV_RFG, Time_RFG)\n",
    "          ]\n",
    "\n",
    "predict = pd.DataFrame(data = regresi, columns=['Model', 'MAE', 'MSE', 'RMSE', 'R_Square', 'Cross-Validation','Time'])\n",
    "predict"
   ]
  },
  {
   "cell_type": "code",
   "execution_count": 26,
   "metadata": {},
   "outputs": [
    {
     "data": {
      "image/png": "[encoded data removed]",
      "text/plain": [
       "<Figure size 432x288 with 1 Axes>"
      ]
     },
     "metadata": {
      "needs_background": "light"
     },
     "output_type": "display_data"
    },
    {
     "data": {
      "image/png": "[encoded data removed]",
      "text/plain": [
       "<Figure size 432x288 with 1 Axes>"
      ]
     },
     "metadata": {
      "needs_background": "light"
     },
     "output_type": "display_data"
    },
    {
     "data": {
      "image/png": "[encoded data removed]",
      "text/plain": [
       "<Figure size 432x288 with 1 Axes>"
      ]
     },
     "metadata": {
      "needs_background": "light"
     },
     "output_type": "display_data"
    },
    {
     "data": {
      "image/png": "[encoded data removed]",
      "text/plain": [
       "<Figure size 432x288 with 1 Axes>"
      ]
     },
     "metadata": {
      "needs_background": "light"
     },
     "output_type": "display_data"
    },
    {
     "data": {
      "image/png": "[encoded data removed]",
      "text/plain": [
       "<Figure size 432x288 with 1 Axes>"
      ]
     },
     "metadata": {
      "needs_background": "light"
     },
     "output_type": "display_data"
    },
    {
     "data": {
      "image/png": "[encoded data removed]",
      "text/plain": [
       "<Figure size 432x288 with 1 Axes>"
      ]
     },
     "metadata": {
      "needs_background": "light"
     },
     "output_type": "display_data"
    },
    {
     "data": {
      "image/png": "[encoded data removed]",
      "text/plain": [
       "<Figure size 432x288 with 1 Axes>"
      ]
     },
     "metadata": {
      "needs_background": "light"
     },
     "output_type": "display_data"
    }
   ],
   "source": [
    "#Visualisasi hasil Y actual dan Y predicted\n",
    "\n",
    "import matplotlib.pyplot as plt\n",
    "plt.scatter(ytest,ypred_1,color='r')\n",
    "plt.grid()\n",
    "plt.xlabel('Actual y')\n",
    "plt.ylabel('Predicted y')\n",
    "plt.title('plot nilai y actual and predicted y Linear Regression')\n",
    "plt.show()\n",
    "plt.scatter(ytest,ypred_2)\n",
    "plt.grid()\n",
    "plt.xlabel('Actual y')\n",
    "plt.ylabel('Predicted y')\n",
    "plt.title('plot nilai y actual and predicted y Lasso Regression')\n",
    "plt.show()\n",
    "plt.scatter(ytest,ypred_3)\n",
    "plt.grid()\n",
    "plt.xlabel('Actual y')\n",
    "plt.ylabel('Predicted y')\n",
    "plt.title('plot nilai y actual and predicted y SVR kernel RBF Regression')\n",
    "plt.show()\n",
    "plt.scatter(ytest,ypred_4)\n",
    "plt.grid()\n",
    "plt.xlabel('Actual y')\n",
    "plt.ylabel('Predicted y')\n",
    "plt.title('plot nilai y actual and predicted y SVR kernel(linear)  Regression')\n",
    "plt.show()\n",
    "plt.scatter(ytest,ypred_5)\n",
    "plt.grid()\n",
    "plt.xlabel('Actual y')\n",
    "plt.ylabel('Predicted y')\n",
    "plt.title('plot nilai y actual and predicted y Decision Tree  Regression')\n",
    "plt.show()\n",
    "plt.scatter(ytest,ypred_6)\n",
    "plt.grid()\n",
    "plt.xlabel('Actual y')\n",
    "plt.ylabel('Predicted y')\n",
    "plt.title('plot nilai y actual and predicted y SGD  Regression')\n",
    "plt.show()\n",
    "plt.scatter(ytest,ypred_7)\n",
    "plt.grid()\n",
    "plt.xlabel('Actual y')\n",
    "plt.ylabel('Predicted y')\n",
    "plt.title('plot nilai y actual and predicted y  Random Forest Regression')\n",
    "plt.show()\n"
   ]
  },
  {
   "cell_type": "code",
   "execution_count": null,
   "metadata": {},
   "outputs": [],
   "source": []
  }
 ],
 "metadata": {
  "kernelspec": {
   "display_name": "Python 3",
   "language": "python",
   "name": "python3"
  },
  "language_info": {
   "codemirror_mode": {
    "name": "ipython",
    "version": 3
   },
   "file_extension": ".py",
   "mimetype": "text/x-python",
   "name": "python",
   "nbconvert_exporter": "python",
   "pygments_lexer": "ipython3",
   "version": "3.8.3"
  }
 },
 "nbformat": 4,
 "nbformat_minor": 4
}
